{
 "cells": [
  {
   "cell_type": "code",
   "execution_count": 24,
   "metadata": {},
   "outputs": [],
   "source": [
    "import sqlite3\n",
    "import pandas as pd"
   ]
  },
  {
   "cell_type": "code",
   "execution_count": 57,
   "metadata": {},
   "outputs": [],
   "source": [
    "def initializeDB():\n",
    "    links = {\"Socio\"  :\"https://ibm.box.com/shared/static/05c3415cbfbtfnr2fx4atenb2sd361ze.csv\",\n",
    "             \"Schools\":\"https://ibm.box.com/shared/static/f9gjvj1gjmxxzycdhplzt01qtz0s7ew7.csv\",\n",
    "             \"Crime\"  :\"https://ibm.box.com/shared/static/svflyugsr9zbqy5bmowgswqemfpm1x7f.csv\"}\n",
    "\n",
    "    # Creating the Dataframes\n",
    "    sceDf  = pd.read_csv(links[\"Socio\"])\n",
    "    schlDf = pd.read_csv(links[\"Schools\"])\n",
    "    crmDf  = pd.read_csv(links[\"Crime\"])\n",
    "    \n",
    "    # Creating SQL server\n",
    "    conn = sqlite3.connect(\"chicagoData.sqlite\")\n",
    "    sceDf.to_sql (\"CENSUS_DATA\",  conn)\n",
    "    schlDf.to_sql(\"CHICAGO_PUBLIC_SCHOOLS\", conn)\n",
    "    crmDf.to_sql (\"CHICAGO_CRIME_DATA\",  conn)\n"
   ]
  },
  {
   "cell_type": "code",
   "execution_count": 114,
   "metadata": {},
   "outputs": [],
   "source": [
    "# Connect to the database\n",
    "\n",
    "conn = sqlite3.connect('chicagoData.sqlite')\n",
    "cur = conn.cursor()"
   ]
  },
  {
   "cell_type": "code",
   "execution_count": 59,
   "metadata": {},
   "outputs": [
    {
     "name": "stdout",
     "output_type": "stream",
     "text": [
      "Count of Crime Table : 533\n"
     ]
    }
   ],
   "source": [
    "# Problem 1: Find the total number of crimes recorded in the crime table.\n",
    "\n",
    "cur.execute(\"SELECT count(*) \"\n",
    "            \"FROM CHICAGO_CRIME_DATA\")\n",
    "\n",
    "result = cur.fetchall()\n",
    "print(\"Count of Crime Table :\", str(result[0][0]))"
   ]
  },
  {
   "cell_type": "code",
   "execution_count": 60,
   "metadata": {},
   "outputs": [
    {
     "name": "stdout",
     "output_type": "stream",
     "text": [
      "Head of Crime Table : \n",
      "[0, 3512276, 'HK587712', '08/28/2004 05:50:56 PM', '047XX S KEDZIE AVE', '890', 'THEFT', 'FROM BUILDING', 'SMALL RETAIL STORE', 0, 0, 911, 9, 14.0, 58.0, '6', 1155838.0, 1873050.0, 2004, '02/10/2018 03:50:01 PM', 41.807440500000006, -87.70395585, '(41.8074405, -87.703955849)']\n",
      "\n",
      "\n",
      "[1, 3406613, 'HK456306', '06/26/2004 12:40:00 PM', '009XX N CENTRAL PARK AVE', '820', 'THEFT', '$500 AND UNDER', 'OTHER', 0, 0, 1112, 11, 27.0, 23.0, '6', 1152206.0, 1906127.0, 2004, '02/28/2018 03:56:25 PM', 41.89827996, -87.71640551, '(41.898279962, -87.716405505)']\n",
      "\n",
      "\n",
      "[2, 8002131, 'HT233595', '04/04/2011 05:45:00 AM', '043XX S WABASH AVE', '820', 'THEFT', '$500 AND UNDER', 'NURSING HOME/RETIREMENT HOME', 0, 0, 221, 2, 3.0, 38.0, '6', 1177436.0, 1876313.0, 2011, '02/10/2018 03:50:01 PM', 41.81593313, -87.62464213, '(41.815933131, -87.624642127)']\n",
      "\n",
      "\n",
      "[3, 7903289, 'HT133522', '12/30/2010 04:30:00 PM', '083XX S KINGSTON AVE', '840', 'THEFT', 'FINANCIAL ID THEFT: OVER $300', 'RESIDENCE', 0, 0, 423, 4, 7.0, 46.0, '6', 1194622.0, 1850125.0, 2010, '02/10/2018 03:50:01 PM', 41.74366532, -87.56246276, '(41.743665322, -87.562462756)']\n",
      "\n",
      "\n",
      "[4, 10402076, 'HZ138551', '02/02/2016 07:30:00 PM', '033XX W 66TH ST', '820', 'THEFT', '$500 AND UNDER', 'ALLEY', 0, 0, 831, 8, 15.0, 66.0, '6', 1155240.0, 1860661.0, 2016, '02/10/2018 03:50:01 PM', 41.773455299999995, -87.70648047, '(41.773455295, -87.706480471)']\n",
      "\n",
      "\n",
      "[5, 7732712, 'HS540106', '09/29/2010 07:59:00 AM', '006XX W CHICAGO AVE', '810', 'THEFT', 'OVER $500', 'PARKING LOT/GARAGE(NON.RESID.)', 0, 0, 1323, 12, 27.0, 24.0, '6', 1171668.0, 1905607.0, 2010, '02/10/2018 03:50:01 PM', 41.89644677, -87.64493868, '(41.896446772, -87.644938678)']\n",
      "\n",
      "\n",
      "[6, 10769475, 'HZ534771', '11/30/2016 01:15:00 AM', '050XX N KEDZIE AVE', '810', 'THEFT', 'OVER $500', 'STREET', 0, 0, 1713, 17, 33.0, 14.0, '6', 1154133.0, 1933314.0, 2016, '02/10/2018 03:50:01 PM', 41.97284491, -87.70860008, '(41.972844913, -87.708600079)']\n",
      "\n",
      "\n",
      "[7, 4494340, 'HL793243', '12/16/2005 04:45:00 PM', '005XX E PERSHING RD', '860', 'THEFT', 'RETAIL THEFT', 'GROCERY FOOD STORE', 1, 0, 213, 2, 3.0, 38.0, '6', 1180448.0, 1879234.0, 2005, '02/28/2018 03:56:25 PM', 41.82387989, -87.61350386, '(41.823879885, -87.613503857)']\n",
      "\n",
      "\n",
      "[8, 3778925, 'HL149610', '01/28/2005 05:00:00 PM', '100XX S WASHTENAW AVE', '810', 'THEFT', 'OVER $500', 'STREET', 0, 0, 2211, 22, 19.0, 72.0, '6', 1160129.0, 1838040.0, 2005, '02/28/2018 03:56:25 PM', 41.71128051, -87.68917909999999, '(41.711280513, -87.689179097)']\n",
      "\n",
      "\n",
      "[9, 3324217, 'HK361551', '05/13/2004 02:15:00 PM', '033XX W BELMONT AVE', '820', 'THEFT', '$500 AND UNDER', 'SMALL RETAIL STORE', 0, 0, 1733, 17, 35.0, 21.0, '6', 1153590.0, 1921084.0, 2004, '02/28/2018 03:56:25 PM', 41.93929582, -87.71092344, '(41.939295821, -87.710923442)']\n",
      "\n",
      "\n"
     ]
    }
   ],
   "source": [
    "# Problem 2: Retrieve first 10 rows from the CRIME table.\n",
    "\n",
    "cur.execute(\"SELECT * \"\n",
    "            \"FROM CHICAGO_CRIME_DATA LIMIT 10\")\n",
    "\n",
    "result = cur.fetchall()\n",
    "print(\"Head of Crime Table : \")\n",
    "\n",
    "for i in result:\n",
    "    print((list(i)))\n",
    "    print(\"\\n\")"
   ]
  },
  {
   "cell_type": "code",
   "execution_count": 61,
   "metadata": {},
   "outputs": [
    {
     "name": "stdout",
     "output_type": "stream",
     "text": [
      "Count of Amount of Arrest : 7\n"
     ]
    }
   ],
   "source": [
    "# Problem 3: How many crimes involve an arrest.\n",
    "\n",
    "cur.execute(\"SELECT * \"\n",
    "            \"FROM CHICAGO_CRIME_DATA \"\n",
    "            \"WHERE arrest is 1\")\n",
    "\n",
    "result = cur.fetchall()\n",
    "print(\"Count of Amount of Arrest :\", str(result[0][0]))"
   ]
  },
  {
   "cell_type": "code",
   "execution_count": 62,
   "metadata": {},
   "outputs": [
    {
     "name": "stdout",
     "output_type": "stream",
     "text": [
      "Types of Crimes at Gas Stations :\n",
      "- THEFT\n",
      "- NARCOTICS\n",
      "- ROBBERY\n",
      "- CRIMINAL TRESPASS\n"
     ]
    }
   ],
   "source": [
    "# Problem 4: Which unique types of crimes (e.g. THEFT) have been recorded at a GAS STATION locations?\n",
    "\n",
    "cur.execute(\"SELECT DISTINCT(PRIMARY_TYPE) \"\n",
    "            \"FROM CHICAGO_CRIME_DATA \"\n",
    "            \"Where LOCATION_DESCRIPTION is 'GAS STATION'\")\n",
    "\n",
    "result = cur.fetchall()\n",
    "print(\"Types of Crimes at Gas Stations :\")\n",
    "for k in result:\n",
    "    print(\"-\",k[0])"
   ]
  },
  {
   "cell_type": "code",
   "execution_count": 80,
   "metadata": {},
   "outputs": [
    {
     "name": "stdout",
     "output_type": "stream",
     "text": [
      "Communities whose names start with B\n",
      "- Belmont Cragin\n",
      "- Burnside\n",
      "- Brighton Park\n",
      "- Bridgeport\n",
      "- Beverly\n"
     ]
    }
   ],
   "source": [
    "# Problem 5: In the CENUS_DATA table list all community areas whose names start with the letter ‘B’.\n",
    "\n",
    "cur.execute(\"SELECT COMMUNITY_AREA_NAME \"\n",
    "            \"FROM CENSUS_DATA \"\n",
    "            \"WHERE COMMUNITY_AREA_NAME LIKE 'B%' \")\n",
    "\n",
    "result = cur.fetchall()\n",
    "print(\"Communities whose names start with B\")\n",
    "for k in result:\n",
    "    print(\"-\",k[0])"
   ]
  },
  {
   "cell_type": "code",
   "execution_count": 105,
   "metadata": {},
   "outputs": [
    {
     "name": "stdout",
     "output_type": "stream",
     "text": [
      "Rufus M Hitch Elementary School\n"
     ]
    }
   ],
   "source": [
    "# Problem 6: List the schools in community areas 10 to 15 that are healthy school certified.\n",
    "\n",
    "cur.execute(\"SELECT name_of_school \"\n",
    "            \"FROM CHICAGO_PUBLIC_SCHOOLS \"\n",
    "            \"WHERE community_area_number BETWEEN 10 AND 15 AND healthy_school_certified IS 'Yes'\")\n",
    "\n",
    "result = cur.fetchall()\n",
    "print(result[0][0])\n"
   ]
  },
  {
   "cell_type": "code",
   "execution_count": 104,
   "metadata": {},
   "outputs": [
    {
     "name": "stdout",
     "output_type": "stream",
     "text": [
      "49.50487329434698\n"
     ]
    }
   ],
   "source": [
    "# Problem 7: What is the average school Safety Score?\n",
    "\n",
    "cur.execute(\"SELECT avg(safety_score) \"\n",
    "            \"FROM CHICAGO_PUBLIC_SCHOOLS\")\n",
    "\n",
    "result = cur.fetchall()\n",
    "print(result[0][0])\n"
   ]
  },
  {
   "cell_type": "code",
   "execution_count": 102,
   "metadata": {},
   "outputs": [
    {
     "name": "stdout",
     "output_type": "stream",
     "text": [
      "- NORTH CENTER\n",
      "- ARCHER HEIGHTS\n",
      "- NORWOOD PARK\n",
      "- BRIGHTON PARK\n",
      "- IRVING PARK\n"
     ]
    }
   ],
   "source": [
    "# Problem 8: Find the top 5 Community Areas by average College Enrollment [number of students].\n",
    "\n",
    "cur.execute(\"SELECT COMMUNITY_AREA_NAME \"\n",
    "            \"FROM CHICAGO_PUBLIC_SCHOOLS \"\n",
    "            \"ORDER BY college_enrollment DESC limit 5 \")\n",
    "\n",
    "result = cur.fetchall()\n",
    "for k in result:\n",
    "    print(\"-\",k[0])"
   ]
  },
  {
   "cell_type": "code",
   "execution_count": 106,
   "metadata": {},
   "outputs": [
    {
     "name": "stdout",
     "output_type": "stream",
     "text": [
      "- KENWOOD\n",
      "- CHATHAM\n",
      "- MORGAN PARK\n",
      "- CLEARING\n",
      "- SOUTH LAWNDALE\n"
     ]
    }
   ],
   "source": [
    "# Problem 9: Use a sub-query to determine which Community Area has the least value for school Safety Score?\n",
    "\n",
    "cur.execute(\"SELECT COMMUNITY_AREA_NAME \"\n",
    "            \"FROM CHICAGO_PUBLIC_SCHOOLS \"\n",
    "            \"ORDER BY safety_score limit 5 \")\n",
    "\n",
    "result = cur.fetchall()\n",
    "for k in result:\n",
    "    print(\"-\",k[0])"
   ]
  },
  {
   "cell_type": "code",
   "execution_count": 161,
   "metadata": {
    "pycharm": {
     "name": "#%%\n"
    }
   },
   "outputs": [
    {
     "name": "stdout",
     "output_type": "stream",
     "text": [
      "('Washington Park', 13785)\n"
     ]
    }
   ],
   "source": [
    "# Problem 10: [Without using an explicit JOIN operator] Find the Per Capita Income of the Community Area which has a school Safety Score of 1.\n",
    "\n",
    "cur.execute('''\n",
    "        SELECT community_area_name, \"per_capita_income \" \n",
    "        FROM CENSUS_DATA \n",
    "        WHERE upper(community_area_name) IN \n",
    "            (SELECT \"Community_Area_Name\" \n",
    "             FROM CHICAGO_PUBLIC_SCHOOLS \n",
    "             WHERE \"Safety_Score\" = 1 )\n",
    "        ''')\n",
    "\n",
    "result = cur.fetchall()\n",
    "print(result[0])"
   ]
  }
 ],
 "metadata": {
  "kernelspec": {
   "display_name": "Python 3",
   "language": "python",
   "name": "python3"
  },
  "language_info": {
   "codemirror_mode": {
    "name": "ipython",
    "version": 3
   },
   "file_extension": ".py",
   "mimetype": "text/x-python",
   "name": "python",
   "nbconvert_exporter": "python",
   "pygments_lexer": "ipython3",
   "version": "3.7.3"
  },
  "pycharm": {
   "stem_cell": {
    "cell_type": "raw",
    "source": [],
    "metadata": {
     "collapsed": false
    }
   }
  }
 },
 "nbformat": 4,
 "nbformat_minor": 2
}